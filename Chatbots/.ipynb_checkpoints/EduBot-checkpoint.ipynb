{
 "cells": [
  {
   "cell_type": "markdown",
   "metadata": {
    "id": "J0Dd2p9uwChm"
   },
   "source": [
    "Importing the Libraries"
   ]
  },
  {
   "cell_type": "code",
   "execution_count": 1,
   "metadata": {
    "id": "HfocuiJoOfYj"
   },
   "outputs": [],
   "source": [
    "import numpy as np\n",
    "import nltk\n",
    "import string\n",
    "import random\n",
    "import re\n",
    "from os import system, name\n",
    "#import pickle"
   ]
  },
  {
   "cell_type": "code",
   "execution_count": 2,
   "metadata": {},
   "outputs": [],
   "source": [
    "def clear():\n",
    "  \n",
    "    # for windows\n",
    "    if name == 'nt':\n",
    "        _ = system('cls')\n",
    "  \n",
    "    # for mac and linux(here, os.name is 'posix')\n",
    "    else:\n",
    "        _ = system('clear')"
   ]
  },
  {
   "cell_type": "markdown",
   "metadata": {
    "id": "yw9LkWdEv89Y"
   },
   "source": [
    "Importing the corpus"
   ]
  },
  {
   "cell_type": "code",
   "execution_count": 3,
   "metadata": {
    "colab": {
     "base_uri": "https://localhost:8080/"
    },
    "id": "K1nz0E_pO50z",
    "outputId": "16078de5-2685-4d0d-bf58-13cc467426d5"
   },
   "outputs": [
    {
     "name": "stderr",
     "output_type": "stream",
     "text": [
      "[nltk_data] Downloading package punkt to C:\\Users\\MR. DHRUV\n",
      "[nltk_data]     VAIDH\\AppData\\Roaming\\nltk_data...\n",
      "[nltk_data]   Package punkt is already up-to-date!\n",
      "[nltk_data] Downloading package wordnet to C:\\Users\\MR. DHRUV\n",
      "[nltk_data]     VAIDH\\AppData\\Roaming\\nltk_data...\n",
      "[nltk_data]   Package wordnet is already up-to-date!\n"
     ]
    }
   ],
   "source": [
    "f = open(\"chatbot.txt\",'r',errors = 'ignore')\n",
    "raw_doc = f.read()\n",
    "\n",
    "#Pre Processing and Text Case Handling\n",
    "\n",
    "raw_doc = raw_doc.lower()#converts everything inside the file into lower case\n",
    "nltk.download('punkt')# we are going to use punkt tokenizer as it is pre trained for making chatbots.\n",
    "nltk.download('wordnet')# we are going to use the wordnet dictionary\n",
    "sent_tokens  = nltk.sent_tokenize(raw_doc)# converts doc into a list of sentences(each element in this list is a sentance)\n",
    "word_tokens  = nltk.word_tokenize(raw_doc)# converts doc into a list of words(each element in this list is a word)"
   ]
  },
  {
   "cell_type": "markdown",
   "metadata": {
    "id": "eJqVpsh9wUeK"
   },
   "source": [
    "Example of Sentence Token"
   ]
  },
  {
   "cell_type": "code",
   "execution_count": 4,
   "metadata": {
    "colab": {
     "base_uri": "https://localhost:8080/"
    },
    "id": "GV36AIRhO6j1",
    "outputId": "cdbb38c1-1889-4645-c482-893ac65e6e3f"
   },
   "outputs": [
    {
     "data": {
      "text/plain": [
       "['data science is an interdisciplinary field that uses scientific methods, processes, algorithms and systems to extract knowledge and insights from structured and unstructured data,[1][2] and apply knowledge and actionable insights from data across a broad range of application domains.',\n",
       " 'data science is related to data mining, machine learning and big data.']"
      ]
     },
     "execution_count": 4,
     "metadata": {},
     "output_type": "execute_result"
    }
   ],
   "source": [
    "sent_tokens[:2]"
   ]
  },
  {
   "cell_type": "markdown",
   "metadata": {
    "id": "Ajkh4MlnwbN2"
   },
   "source": [
    "Example of Word Token"
   ]
  },
  {
   "cell_type": "code",
   "execution_count": 5,
   "metadata": {
    "colab": {
     "base_uri": "https://localhost:8080/"
    },
    "id": "h-FCHWp2Rg5j",
    "outputId": "bd23b65c-b05b-4cf5-a44e-7f674f031613"
   },
   "outputs": [
    {
     "data": {
      "text/plain": [
       "['data', 'science']"
      ]
     },
     "execution_count": 5,
     "metadata": {},
     "output_type": "execute_result"
    }
   ],
   "source": [
    "word_tokens[:2]"
   ]
  },
  {
   "cell_type": "markdown",
   "metadata": {
    "id": "ViZQPcFI1-iQ"
   },
   "source": [
    "Text Pre-Processing"
   ]
  },
  {
   "cell_type": "code",
   "execution_count": 6,
   "metadata": {
    "id": "BBprQ1aPU0n0"
   },
   "outputs": [],
   "source": [
    "# WordNet dictinary i already included in the nltk library\n",
    "lemmer = nltk.stem.WordNetLemmatizer()\n",
    "# WordNet is a semantically-oriented dictionary of English in NLTK\n",
    "def LemTokens(tokens):\n",
    "  return [lemmer.lemmatize(token) for token in tokens]\n",
    "# We are removing the punctuations from the text here\n",
    "remove_punct_dict = dict((ord(punct),None) for punct in string.punctuation)\n",
    "def LemNormalize(text):\n",
    "  return LemTokens(nltk.word_tokenize(text.lower().translate(remove_punct_dict)))"
   ]
  },
  {
   "cell_type": "markdown",
   "metadata": {
    "id": "F7671ECP5ULh"
   },
   "source": [
    "Greeting Function"
   ]
  },
  {
   "cell_type": "code",
   "execution_count": 7,
   "metadata": {
    "id": "IpBwr63Z2Xs4"
   },
   "outputs": [],
   "source": [
    "# this list contains all the possible greetings a user can make to the bot\n",
    "GREET_INPUTS = [\"hello\" , \"hi\" , \"greetings\" , \"sup\" , \"what's up\" , \"hey\"]\n",
    "# this list contains some responses the bot can make after the user's greetings \n",
    "GREET_OUTPUTS = [\"hi\" , \"hey\" , \"*nods*\" , \"hi there\" , \"hello\" , \"I'm glad! that you're talking to me\"]\n",
    "pattern = re.compile('|'.join(GREET_INPUTS))\n",
    "def greet(sentence):\n",
    "    flag = 0\n",
    "    for word in sentence.split():\n",
    "        if word.lower() in GREET_INPUTS:\n",
    "            flag = 1\n",
    "        elif len(re.findall(pattern,word.lower()))>0:\n",
    "            flag = 1\n",
    "# When the user enters a sentence, it is being split into words and each is being checked inside the GREET_INPUTS list\n",
    "    if(flag == 1):\n",
    "        return random.choice(GREET_OUTPUTS)"
   ]
  },
  {
   "cell_type": "markdown",
   "metadata": {
    "id": "wSzA3-rxcGpW"
   },
   "source": [
    "Response Generation"
   ]
  },
  {
   "cell_type": "code",
   "execution_count": 8,
   "metadata": {
    "id": "VQasc5kF5ZzE"
   },
   "outputs": [],
   "source": [
    "# We use Text Frequency and Inverse Document Frequency Vectorizer is used to find how many times a term is present in the corpus(Text Frequency)\n",
    "# Inverse Document Frequency is used to find out how rare a term is in the corpus and it is converted into a vector form which is machine readable\n",
    "\n",
    "from sklearn.feature_extraction.text import TfidfVectorizer\n",
    "\n",
    "# After we obtain the the Bag of Words and their correcponding vectors, we use the cosine functionality to give a normalized output\n",
    "\n",
    "from sklearn.metrics.pairwise import cosine_similarity\n"
   ]
  },
  {
   "cell_type": "code",
   "execution_count": 9,
   "metadata": {
    "id": "-Yrnv_Cw8rLw"
   },
   "outputs": [],
   "source": [
    "# We are converting the bag of words into vector form so that it is machine readable\n",
    "# These vectors are converted into matrices which will be used to generate responses\n",
    "def response(user_response):\n",
    "  robo1_response = ''\n",
    "  TfidfVec = TfidfVectorizer(tokenizer = LemNormalize, stop_words = \"english\")\n",
    "  tfidf = TfidfVec.fit_transform(sent_tokens)\n",
    "  vals = cosine_similarity(tfidf[-1] , tfidf)\n",
    "  idx = vals.argsort()[0][-2]\n",
    "  flat = vals.flatten()\n",
    "  flat.sort()\n",
    "  req_tfidf = flat[-2]\n",
    "  if (req_tfidf == 0):\n",
    "    robo1_response = \"I'm Sorry\" + \"/n\" + \"I don't understand you\"\n",
    "  else:\n",
    "    robo1_response = robo1_response + sent_tokens[idx]\n",
    "    return robo1_response"
   ]
  },
  {
   "cell_type": "markdown",
   "metadata": {},
   "source": [
    "Main Menu"
   ]
  },
  {
   "cell_type": "code",
   "execution_count": 10,
   "metadata": {},
   "outputs": [],
   "source": [
    "def main_menu():\n",
    "    print(\"For example, reply with '1' for Eduauraa Information \\n \")\n",
    "    print(\"1.Eduauraa Information\")\n",
    "    print(\"2.Learn with Eduauraa bot\")\n",
    "    print(\"3.Subscription Plans\")\n",
    "    print(\"4.Refer & Earn\")\n",
    "    print(\"5.Social media connect\")\n",
    "    print(\"6.Request a live session/demo\")\n",
    "    print(\"7.Customer Support\")\n",
    "    print(\"\\n Type 'bye' to exit this conversation\")\n",
    "    print(\"\\n \\n Download the Eduauraa App Now - \")\n",
    "    print(\"Link: \")"
   ]
  },
  {
   "cell_type": "markdown",
   "metadata": {},
   "source": [
    "Keywords"
   ]
  },
  {
   "cell_type": "code",
   "execution_count": 11,
   "metadata": {},
   "outputs": [],
   "source": [
    "input0 = ['0','back','home','main','refresh','main list','menu','refersh','restart']\n",
    "input1 = ['1','eduauraa information','info','information','about eduauraa','about','boards','board','grade',\n",
    "          'class','language','english','hindi','marathi']\n",
    "input2 = ['2','learn','start learning','bot','explain','physics','chemistry','maths','biology']\n",
    "input3 = ['3','plans','subscribe','subscription','money','pricing']\n",
    "input4 = ['4','refer & earn','referral program','gifts','rewards','vouchers']\n",
    "input5 = ['5','social media','facebook','twitter','instagram','linkedin','telegram']\n",
    "input6 = ['6','live session','trial','book demo','demo','trial','try']\n",
    "input7 = ['7','customersupport','support','issue','ticket','error','help']\n",
    "input8 = ['8','physics','phy']\n",
    "input9 = ['9','chemistry','chem']\n",
    "input10 = ['10','biology','bio']\n",
    "input11 = ['11','mathematics','mat','maths']\n",
    "inputx = ['exit','close','bye','dnd','quit','stop']\n",
    "def trigger(sentence,inputs):\n",
    "    pattern = re.compile('|'.join(inputs))\n",
    "    flag = 0\n",
    "    for word in sentence.split():\n",
    "        if word.lower() in inputs:\n",
    "            flag = 1\n",
    "        elif len(re.findall(pattern,word.lower()))>0:\n",
    "            flag = 1\n",
    "# When the user enters a sentence, it is being split into words and each is being checked inside the GREET_INPUTS list\n",
    "    if(flag == 1):\n",
    "        return True\n",
    "    else:\n",
    "        return False"
   ]
  },
  {
   "cell_type": "markdown",
   "metadata": {
    "id": "L0El_GEE9j8T"
   },
   "source": [
    "Conversation"
   ]
  },
  {
   "cell_type": "code",
   "execution_count": 14,
   "metadata": {
    "colab": {
     "base_uri": "https://localhost:8080/"
    },
    "id": "8w3i6ihMcCQ_",
    "outputId": "51ee5a87-5e22-465a-f122-18e1ce8742b1"
   },
   "outputs": [
    {
     "name": "stdout",
     "output_type": "stream",
     "text": [
      "BOT: Hi, \n",
      " Welcome to Eduauraa \n",
      " We are thrilled to have you aboard \n",
      " Lets start your learning experience -\n",
      "If you want to exit, just type 'Bye'.\n",
      "hihihi\n",
      "BOT: hey\n",
      "BOT: \n",
      "For example, reply with '1' for Eduauraa Information \n",
      " \n",
      "1.Eduauraa Information\n",
      "2.Learn with Eduauraa bot\n",
      "3.Subscription Plans\n",
      "4.Refer & Earn\n",
      "5.Social media connect\n",
      "6.Request a live session/demo\n",
      "7.Customer Support\n",
      "\n",
      " Type 'bye' to exit this conversation\n",
      "\n",
      " \n",
      " Download the Eduauraa App Now - \n",
      "Link: \n",
      "1\n",
      "BOT: Eduauraa is a premium digital learning website for all your educational needs! \n",
      " We provide educational content according to the syllabi of: \n",
      "\n",
      "\t1. ICSE \n",
      "\t2. CBSE and \n",
      "\t3. 7 State Boards:\n",
      "\n",
      "\t\tMaharashtra\n",
      "\n",
      "\t\tRajasthan\n",
      "\n",
      "\t\tBihar\n",
      "\n",
      "\t\tChhattisgarh\n",
      "\n",
      "\t\tTamil Nadu\n",
      "\n",
      "\t\tUttar Pradesh\n",
      "\n",
      "\t\tMadhya Pradesh\n",
      "We cover the subjects of Mathematics and Science for classes 6-10 and Mathematics, Physics, Chemistry and Biology for classes 11-12\n",
      "\n",
      " Our videos are available in Hindi and English so that you can learn in the best way possible!\n",
      "\n",
      " We also have a bunch of features like: \n",
      "\n",
      "\t60000+ videos \n",
      "\t5000+ E-books \n",
      "\t50000+ test papers \n",
      "\t2500+ Mind Maps \n",
      "\tEduauraa Proficiency Quotient\n",
      "\n",
      " \n",
      " Download the Eduauraa App Now - \n",
      "\tFor iOS: https://cutt.ly/WQHZUrb \n",
      "\tFor Android: https://cutt.ly/hQHZG9r\n",
      "\n",
      " Reply 0 for going to main menu\n",
      "0\n",
      "For example, reply with '1' for Eduauraa Information \n",
      " \n",
      "1.Eduauraa Information\n",
      "2.Learn with Eduauraa bot\n",
      "3.Subscription Plans\n",
      "4.Refer & Earn\n",
      "5.Social media connect\n",
      "6.Request a live session/demo\n",
      "7.Customer Support\n",
      "\n",
      " Type 'bye' to exit this conversation\n",
      "\n",
      " \n",
      " Download the Eduauraa App Now - \n",
      "Link: \n",
      "5\n",
      "BOT: We would love to connect and hear from our big Eduauraa family! \n",
      " To reach out to us find us on the following social media platforms: \n",
      "\n",
      "\tTwitter: https://twitter.com/EduauraaTech\n",
      "\tInstagram: https://www.instagram.com/eduauraa/\n",
      "\tFacebook: https://www.facebook.com/eduauraa\n",
      "\n",
      " \n",
      " Download the Eduauraa App Now - \n",
      "\tFor iOS: https://cutt.ly/WQHZUrb \n",
      "\tFor Android: https://cutt.ly/hQHZG9r\n",
      "\n",
      " Reply 0 for going to main menu\n",
      "0\n",
      "For example, reply with '1' for Eduauraa Information \n",
      " \n",
      "1.Eduauraa Information\n",
      "2.Learn with Eduauraa bot\n",
      "3.Subscription Plans\n",
      "4.Refer & Earn\n",
      "5.Social media connect\n",
      "6.Request a live session/demo\n",
      "7.Customer Support\n",
      "\n",
      " Type 'bye' to exit this conversation\n",
      "\n",
      " \n",
      " Download the Eduauraa App Now - \n",
      "Link: \n",
      "goodbyw\n",
      "goodbye\n",
      "BOT: Goodbye!!......\n"
     ]
    }
   ],
   "source": [
    "flag = True\n",
    "print(\"BOT: \",end=\"\")\n",
    "print(\"Hi, \\n Welcome to Eduauraa \\n We are thrilled to have you aboard \\n Lets start your learning experience -\")\n",
    "print(\"If you want to exit, just type 'Bye'.\")\n",
    "#with open('contact', 'wb') as contacts_file\n",
    "while (flag==True):\n",
    "    \"\"\"\n",
    "    class contact_details:\n",
    "        def __init__(self):\n",
    "            self.first_name = \"\"\n",
    "            self.last_name = \"\"\n",
    "            self.email_id =\"\"\n",
    "            self.phone_number = \"\"\n",
    "            self.state = \"\"\n",
    "            self.city = \"\"\n",
    "            self.board = \"\"\n",
    "            self.grade = \"\"\n",
    "            self.account_type = \"\"\n",
    "        def enter_data(self,a):\n",
    "            self.first_name = input(\"First Name: \") \n",
    "            self.last_name = input(\"Last Name: \") \n",
    "            self.email_id = input(\"Email ID: \") \n",
    "            self.phone_number = input(\"Phone Number: \")\n",
    "            self.state = input(\"State: \") \n",
    "            self.city = input(\"City: \") \n",
    "            self.board = input(\"Board: \")\n",
    "            self.grade = input(\"Grade: \") \n",
    "            if (int(a)==2):\n",
    "                self.account_type = 'trial'\n",
    "            elif (int(a)==3):\n",
    "                self.account_type = 'member'\n",
    "        \"\"\"\n",
    "      \n",
    "    user_response = input()\n",
    "    user_response = user_response.lower()\n",
    "    if (trigger(user_response,inputx)==False):\n",
    "        if (user_response =='thanks' or user_response =='thank you'):\n",
    "            flag = False\n",
    "            print(\"BOT: You are welcome.......\")\n",
    "        else:\n",
    "            if (greet(user_response) != None):\n",
    "                print(\"BOT: \"+greet(user_response))\n",
    "                print(\"BOT: \",end=\"\\n\")\n",
    "                main_menu()\n",
    "            if(trigger(user_response,input0)==False):\n",
    "                if trigger(user_response,input1):\n",
    "                    states = [\"Maharashtra\",\"Rajasthan\", \"Bihar\" ,\"Chhattisgarh\" ,\"Tamil Nadu\" ,\"Uttar Pradesh\",\"Madhya Pradesh\"]\n",
    "                    print(\"BOT: \",end=\"\")\n",
    "                    print(\"Eduauraa is a premium digital learning website for all your educational needs! \\n We provide educational content according to the syllabi of: \\n\")\n",
    "                    print(\"\\t1. ICSE \\n\\t2. CBSE and \\n\\t3. 7 State Boards:\")\n",
    "                    for i in states:\n",
    "                        print(\"\\n\\t\\t\" + i)\n",
    "                    print(\"We cover the subjects of Mathematics and Science for classes 6-10 and Mathematics, Physics, Chemistry and Biology for classes 11-12\")\n",
    "                    print(\"\\n Our videos are available in Hindi and English so that you can learn in the best way possible!\")\n",
    "                    print(\"\\n We also have a bunch of features like: \")\n",
    "                    print(\"\\n\\t60000+ videos \\n\\t5000+ E-books \\n\\t50000+ test papers \\n\\t2500+ Mind Maps \\n\\tEduauraa Proficiency Quotient\")\n",
    "                    print(\"\\n \\n Download the Eduauraa App Now - \")\n",
    "                    print(\"\\tFor iOS: https://cutt.ly/WQHZUrb \\n\\tFor Android: https://cutt.ly/hQHZG9r\")\n",
    "                    print(\"\\n Reply 0 for going to main menu\")\n",
    "\n",
    "                elif trigger(user_response,input2):\n",
    "                    print(\"BOT: \",end=\"\")\n",
    "                    print(\"Learn with Eduauraa bot\")\n",
    "                    print(\"This will cover 4 different subjects, 10 interesting topics with video links for studying.\")\n",
    "                    print(\"8.Physics\")\n",
    "                    print(\"9.Chemistry\")\n",
    "                    print(\"10.Biology\")\n",
    "                    print(\"11.Mathematics\")\n",
    "                    sub_response = input()\n",
    "                    if(trigger(sub_response,input8)):\n",
    "                        print(\"Physics:\")\n",
    "                        print(\"\\n\\nVideo 1:\")\n",
    "                        print(\"How Air Expands on Heating?\")\n",
    "                        print(\"Link: https://youtu.be/mBLSXxh9RKA?list=PL9TTmh_k-_fuVPo7vKHDHI7aT00orpLj3\")\n",
    "                        print(\"\\n\\nVideo 2:\")\n",
    "                        print(\"How does Lightning occur?\")\n",
    "                        print(\"Link: https://youtu.be/3Scy9g9FgIg?list=PL9TTmh_k-_fuVPo7vKHDHI7aT00orpLj3\")\n",
    "                \n",
    "                    elif(trigger(sub_response,input9)):\n",
    "                        print(\"Chemistry: \")\n",
    "                        print(\"\\n\\nVideo 1:\")\n",
    "                        print(\"Heat\")\n",
    "                        print(\"Link: https://youtu.be/B3hkpeWC-b8?list=PL9TTmh_k-_fs5Vuc8CJpHpNWOkQVuTIZ2\")\n",
    "                        print(\"\\n\\nVideo 2:\")\n",
    "                        print(\"How is paper made? \")\n",
    "                        print(\"Link: https://youtu.be/tDxKWqO1_vU?list=PL9TTmh_k-_fs5Vuc8CJpHpNWOkQVuTIZ2\")\n",
    "                    \n",
    "                    elif(trigger(sub_response,input10)):\n",
    "                        print(\"Biology: \")\n",
    "                        print(\"\\n\\nVideo 1:\")\n",
    "                        print(\"Adaptations of Aquatic Animals\")\n",
    "                        print(\"Link: https://www.youtube.com/watch?v=APkMeMGppIQ&list=PL9TTmh_k-_fu8urdhQ85VR_FZyTDp7HYU\")\n",
    "                        print(\"\\n\\nVideo 2:\")\n",
    "                        print(\"Tests for Fats\")\n",
    "                        print(\"Link:  https://youtu.be/RAT5oS-qsaM?list=PL9TTmh_k-_fu8urdhQ85VR_FZyTDp7HYU\")\n",
    "                    \n",
    "                    elif(trigger(sub_response,input11)):\n",
    "                        print(\"Mathematics: \")\n",
    "                        print(\"\\n\\nVideo 1:\")\n",
    "                        print(\"Decimals and Fractions\")\n",
    "                        print(\"Link: https://youtu.be/BVQWJ0POdDE?list=PL9TTmh_k-_fsDrB9vIr8wAykD0QbNVGBR\")\n",
    "                        print(\"\\n\\nVideo 2:\")\n",
    "                        print(\"Congruence of triangles\")\n",
    "                        print(\"Link: https://youtu.be/Gzkvlv2U7iM?list=PL9TTmh_k-_fsDrB9vIr8wAykD0QbNVGBR\")\n",
    "                    \n",
    "                    print(\"\\n \\n Download the Eduauraa App Now - \")\n",
    "                    print(\"\\tFor iOS: https://cutt.ly/WQHZUrb \\n\\tFor Android: https://cutt.ly/hQHZG9r\")\n",
    "                    print(\"\\n Reply 0 for going to main menu\")\n",
    "                    #user = contact_details()\n",
    "                    #user.enter_data(user_response)\n",
    "                    #pickle.dump(user,contacts)\n",
    "\n",
    "                elif trigger(user_response,input3):\n",
    "                    print(\"BOT: \",end=\"\")\n",
    "                    print(\"Eduauraa is your one-stop for the most affordable, comprehensive, and varied educational tools required for you to reach your maximum potential.\")\n",
    "                    print(\"We have the best plans to help you succeed!\")\n",
    "                    print(\"They are as follows: \")\n",
    "                    print(\"\\t1. For Classes 6 to 10: Rs 999-/- per year onwards\")\n",
    "                    print(\"\\t2. For Classes 11 / 12: Rs 7999-/- yearly\")\n",
    "                    print(\"\\t3. For JEE - NEET preparation  it is - Rs 11999-/- yearly\")\n",
    "                    print(\"\\n \\n Download the Eduauraa App Now - \")\n",
    "                    print(\"\\tFor iOS: https://cutt.ly/WQHZUrb \\n\\tFor Android: https://cutt.ly/hQHZG9r\")\n",
    "                    print(\"\\n Reply 0 for going to main menu\")\n",
    "                    #user = contact_details()\n",
    "                    #user.enter_data(user_response)\n",
    "                    #pickle.dump(user,contacts)\n",
    "\n",
    "                elif trigger(user_response,input4):\n",
    "                    print(\"BOT: \",end=\"\")\n",
    "                    print(\"We believe in sharing is caring. So why not share our love for education with your friends and unlock these amazing offers:\")\n",
    "                    print(\"USE CODE : *100OFF*\")\n",
    "                    print(\"\\n \\n Download the Eduauraa App Now - \")\n",
    "                    print(\"\\tFor iOS: https://cutt.ly/WQHZUrb \\n\\tFor Android: https://cutt.ly/hQHZG9r\")\n",
    "                    print(\"\\n Reply 0 for going to main menu\")\n",
    "\n",
    "                elif trigger(user_response,input5):\n",
    "                    print(\"BOT: \",end=\"\")\n",
    "                    print(\"We would love to connect and hear from our big Eduauraa family! \\n To reach out to us find us on the following social media platforms: \")\n",
    "                    print(\"\\n\\tTwitter: https://twitter.com/EduauraaTech\")\n",
    "                    print(\"\\tInstagram: https://www.instagram.com/eduauraa/\")\n",
    "                    print(\"\\tFacebook: https://www.facebook.com/eduauraa\")\n",
    "                    print(\"\\n \\n Download the Eduauraa App Now - \")\n",
    "                    print(\"\\tFor iOS: https://cutt.ly/WQHZUrb \\n\\tFor Android: https://cutt.ly/hQHZG9r\")\n",
    "                    print(\"\\n Reply 0 for going to main menu\")\n",
    "\n",
    "                elif trigger(user_response,input6):\n",
    "                    print(\"BOT: \",end=\"\")\n",
    "                    print(\"We are so excited that you have booked a free demo session with us! \\n We hope that you enjoy our fun learning experience and come back to us for more.\")\n",
    "                    print(\"\\n\\n https://www.eduauraa.com/landingpage.html\")\n",
    "                    print(\"\\n\\n Our team will get in touch with you soon.\")\n",
    "                    print(\"\\n \\n Download the Eduauraa App Now - \")\n",
    "                    print(\"\\tFor iOS: https://cutt.ly/WQHZUrb \\n\\tFor Android: https://cutt.ly/hQHZG9r\")\n",
    "                    print(\"\\n Reply 0 for going to main menu\")\n",
    "\n",
    "                elif trigger(user_response,input7):\n",
    "                    print(\"BOT: \",end=\"\")\n",
    "                    print(\"We are so sorry for any inconvenience faced. Eduauraa team is here to help you out with any queries, questions, or problems that you might have.\")\n",
    "                    print(\"Please send us your queries at *contact@eduauraa.com* or call us at *18002669990*\")\n",
    "                    print(\"\\n \\n Download the Eduauraa App Now - \")\n",
    "                    print(\"\\tFor iOS: https://cutt.ly/WQHZUrb \\n\\tFor Android: https://cutt.ly/hQHZG9r\")\n",
    "                    print(\"\\n Reply 0 for going to main menu\")\n",
    "            else:\n",
    "                clear()\n",
    "                main_menu()\n",
    "\n",
    "    else:\n",
    "        flag = False\n",
    "        print(\"BOT: Goodbye!!......\")"
   ]
  },
  {
   "cell_type": "code",
   "execution_count": null,
   "metadata": {
    "id": "TXJbZ8RE-whN"
   },
   "outputs": [],
   "source": []
  }
 ],
 "metadata": {
  "colab": {
   "collapsed_sections": [],
   "name": "chatbot.ipynb",
   "provenance": []
  },
  "kernelspec": {
   "display_name": "Python 3",
   "language": "python",
   "name": "python3"
  },
  "language_info": {
   "codemirror_mode": {
    "name": "ipython",
    "version": 3
   },
   "file_extension": ".py",
   "mimetype": "text/x-python",
   "name": "python",
   "nbconvert_exporter": "python",
   "pygments_lexer": "ipython3",
   "version": "3.8.5"
  }
 },
 "nbformat": 4,
 "nbformat_minor": 1
}
